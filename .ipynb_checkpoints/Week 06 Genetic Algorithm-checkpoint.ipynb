{
 "cells": [
  {
   "cell_type": "markdown",
   "metadata": {
    "id": "O5x7T2XxRqdv"
   },
   "source": [
    "### Problem: Maximize f(x) = x^3-11x^2+150 when x = 0 to 255"
   ]
  },
  {
   "cell_type": "markdown",
   "metadata": {
    "id": "ywY6mjLkRqd2"
   },
   "source": [
    "Representation or ecoding solution:\n",
    "x can be represented using 8 bits binary number."
   ]
  },
  {
   "cell_type": "markdown",
   "metadata": {
    "id": "h_AzBq1MRqd3"
   },
   "source": [
    "# Step 1: Initialize Population"
   ]
  },
  {
   "cell_type": "code",
   "execution_count": 7,
   "metadata": {
    "_cell_guid": "b1076dfc-b9ad-4769-8c92-a6c4dae69d19",
    "_uuid": "8f2839f25d086af736a60e9eeb907d3b93b6e0e5",
    "executionInfo": {
     "elapsed": 434,
     "status": "ok",
     "timestamp": 1647939845489,
     "user": {
      "displayName": "Ashraf Uddin",
      "photoUrl": "https://lh3.googleusercontent.com/a-/AOh14GjBdAa8YVVeKPAj-6WRIHqgGMOom16hPYcrG5tkEw=s64",
      "userId": "01747740824393644374"
     },
     "user_tz": -360
    },
    "id": "1bOfcsluRqd4"
   },
   "outputs": [],
   "source": [
    "import random\n",
    "def initPopulation(b, n =10): # n is the number of solutions, b is the length\n",
    "    p = [] # to store solution set/ initial population\n",
    "    for i in range(n):\n",
    "        s = [] # to store a solution as a list\n",
    "        for j in range(b):\n",
    "            s.append(random.choice([0,1]))    \n",
    "        p.append(s)\n",
    "    return p"
   ]
  },
  {
   "cell_type": "code",
   "execution_count": 45,
   "metadata": {
    "colab": {
     "base_uri": "https://localhost:8080/"
    },
    "executionInfo": {
     "elapsed": 503,
     "status": "ok",
     "timestamp": 1647946573270,
     "user": {
      "displayName": "Ashraf Uddin",
      "photoUrl": "https://lh3.googleusercontent.com/a-/AOh14GjBdAa8YVVeKPAj-6WRIHqgGMOom16hPYcrG5tkEw=s64",
      "userId": "01747740824393644374"
     },
     "user_tz": -360
    },
    "id": "xqpElpd6Rqd7",
    "outputId": "83be4d12-0be1-4a90-d28a-bfddbdd1b843"
   },
   "outputs": [
    {
     "data": {
      "text/plain": [
       "[[0, 1, 1, 0, 0, 1, 0, 1],\n",
       " [0, 0, 0, 1, 0, 0, 0, 0],\n",
       " [1, 1, 1, 0, 0, 0, 0, 0],\n",
       " [1, 1, 0, 1, 1, 0, 1, 0],\n",
       " [0, 1, 0, 1, 0, 0, 1, 0],\n",
       " [0, 1, 1, 0, 0, 0, 1, 0],\n",
       " [1, 0, 1, 0, 0, 1, 0, 0],\n",
       " [0, 1, 0, 1, 0, 1, 0, 0],\n",
       " [1, 0, 0, 0, 1, 1, 0, 1],\n",
       " [1, 0, 1, 1, 0, 1, 1, 1],\n",
       " [1, 1, 1, 0, 1, 0, 0, 0],\n",
       " [0, 0, 1, 0, 0, 1, 0, 1]]"
      ]
     },
     "execution_count": 45,
     "metadata": {},
     "output_type": "execute_result"
    }
   ],
   "source": [
    "population = initPopulation(8,12)\n",
    "population"
   ]
  },
  {
   "cell_type": "markdown",
   "metadata": {
    "id": "295Y_a8JRqd8"
   },
   "source": [
    "# Step 2: Reproduction or Parent Selection"
   ]
  },
  {
   "cell_type": "markdown",
   "metadata": {
    "id": "Q-2xm1Y0Rqd9"
   },
   "source": [
    "Fitness Calculation"
   ]
  },
  {
   "cell_type": "code",
   "execution_count": 12,
   "metadata": {
    "executionInfo": {
     "elapsed": 415,
     "status": "ok",
     "timestamp": 1647940200528,
     "user": {
      "displayName": "Ashraf Uddin",
      "photoUrl": "https://lh3.googleusercontent.com/a-/AOh14GjBdAa8YVVeKPAj-6WRIHqgGMOom16hPYcrG5tkEw=s64",
      "userId": "01747740824393644374"
     },
     "user_tz": -360
    },
    "id": "GeSnMD0hRqd_"
   },
   "outputs": [],
   "source": [
    "def getFitness(p): # p is the whole population\n",
    "    f = [] # to store fitness values\n",
    "    for sol in p:\n",
    "        d = 0 # decimel value\n",
    "        b = len(sol)\n",
    "        for i in range(b-1,-1,-1): # binary to decimel\n",
    "            d = d + sol[i]*2**(b-1-i)\n",
    "        #print(d)\n",
    "        v = d**3 - 11*d**2 + 150\n",
    "        if v< 0: f.append(0)\n",
    "        else: f.append(v) # fitness function\n",
    "    return f"
   ]
  },
  {
   "cell_type": "code",
   "execution_count": 46,
   "metadata": {
    "colab": {
     "base_uri": "https://localhost:8080/"
    },
    "executionInfo": {
     "elapsed": 14,
     "status": "ok",
     "timestamp": 1647946587945,
     "user": {
      "displayName": "Ashraf Uddin",
      "photoUrl": "https://lh3.googleusercontent.com/a-/AOh14GjBdAa8YVVeKPAj-6WRIHqgGMOom16hPYcrG5tkEw=s64",
      "userId": "01747740824393644374"
     },
     "user_tz": -360
    },
    "id": "bDE-fRdFRqeB",
    "outputId": "05204937-a194-4c05-fd42-7e6448cd4a67"
   },
   "outputs": [
    {
     "data": {
      "text/plain": [
       "[918240,\n",
       " 1430,\n",
       " 10687638,\n",
       " 9837618,\n",
       " 477554,\n",
       " 835698,\n",
       " 4115238,\n",
       " 515238,\n",
       " 2584680,\n",
       " 5760258,\n",
       " 11895254,\n",
       " 35744]"
      ]
     },
     "execution_count": 46,
     "metadata": {},
     "output_type": "execute_result"
    }
   ],
   "source": [
    "getFitness(population)"
   ]
  },
  {
   "cell_type": "markdown",
   "metadata": {
    "id": "MuyfwGTDRqeC"
   },
   "source": [
    "calculate probability and select parents"
   ]
  },
  {
   "cell_type": "code",
   "execution_count": 17,
   "metadata": {
    "executionInfo": {
     "elapsed": 859,
     "status": "ok",
     "timestamp": 1647943697274,
     "user": {
      "displayName": "Ashraf Uddin",
      "photoUrl": "https://lh3.googleusercontent.com/a-/AOh14GjBdAa8YVVeKPAj-6WRIHqgGMOom16hPYcrG5tkEw=s64",
      "userId": "01747740824393644374"
     },
     "user_tz": -360
    },
    "id": "lK4uQOsrRqeC"
   },
   "outputs": [],
   "source": [
    "def select_parent(n, pop): # probability, parent selection\n",
    "    # probability\n",
    "    fitness = getFitness(pop)\n",
    "    total_fitness = sum(fitness)\n",
    "    prob = [round(f/total_fitness,3) for f in fitness]\n",
    "    # parent selection\n",
    "    parents = []\n",
    "    for i in range(n):\n",
    "        # roullete wheel, generate a random number\n",
    "        #r = random.choice(range(1,1001,1))/1000\n",
    "        r = random.random()\n",
    "        #print(r)\n",
    "        lim = 0\n",
    "        # check bin number of r\n",
    "        for j in range(len(prob)):\n",
    "            lim = lim + prob[j]\n",
    "            if r <= lim :#checking the bin\n",
    "                print(j)\n",
    "                parents.append(pop[j])\n",
    "                break\n",
    "    return parents"
   ]
  },
  {
   "cell_type": "code",
   "execution_count": 47,
   "metadata": {
    "colab": {
     "base_uri": "https://localhost:8080/"
    },
    "executionInfo": {
     "elapsed": 425,
     "status": "ok",
     "timestamp": 1647946603396,
     "user": {
      "displayName": "Ashraf Uddin",
      "photoUrl": "https://lh3.googleusercontent.com/a-/AOh14GjBdAa8YVVeKPAj-6WRIHqgGMOom16hPYcrG5tkEw=s64",
      "userId": "01747740824393644374"
     },
     "user_tz": -360
    },
    "id": "3-lCH3ZoRqeD",
    "outputId": "bbee46b4-fe38-448c-c2ac-121010cb3681"
   },
   "outputs": [
    {
     "name": "stdout",
     "output_type": "stream",
     "text": [
      "9\n",
      "2\n",
      "10\n",
      "9\n",
      "9\n",
      "3\n"
     ]
    }
   ],
   "source": [
    "parents = select_parent(6, population)"
   ]
  },
  {
   "cell_type": "markdown",
   "metadata": {
    "id": "HTf2wgA_RqeE"
   },
   "source": [
    "# Step 3: Crossover"
   ]
  },
  {
   "cell_type": "code",
   "execution_count": 48,
   "metadata": {
    "executionInfo": {
     "elapsed": 411,
     "status": "ok",
     "timestamp": 1647946611093,
     "user": {
      "displayName": "Ashraf Uddin",
      "photoUrl": "https://lh3.googleusercontent.com/a-/AOh14GjBdAa8YVVeKPAj-6WRIHqgGMOom16hPYcrG5tkEw=s64",
      "userId": "01747740824393644374"
     },
     "user_tz": -360
    },
    "id": "PwgF2uv6RqeF"
   },
   "outputs": [],
   "source": [
    "# define a method crossover (input is parents set)\n",
    "def cross(p):\n",
    "  num_cross = int(len(p)/2)\n",
    "  print(num_cross)\n",
    "  offsprings = []\n",
    "  #  for loop to perform crossovers\n",
    "  for i in range(num_cross):\n",
    "   cp = random.choice(range(3,6))\n",
    "   print(cp)\n",
    "   # perform crossover\n",
    "   x,y = p[0],p[1]\n",
    "   off1 = x[:cp] + y[cp:]\n",
    "   offsprings.append(off1)\n",
    "\n",
    "  return offsprings"
   ]
  },
  {
   "cell_type": "code",
   "execution_count": 50,
   "metadata": {
    "colab": {
     "base_uri": "https://localhost:8080/"
    },
    "executionInfo": {
     "elapsed": 414,
     "status": "ok",
     "timestamp": 1647946643767,
     "user": {
      "displayName": "Ashraf Uddin",
      "photoUrl": "https://lh3.googleusercontent.com/a-/AOh14GjBdAa8YVVeKPAj-6WRIHqgGMOom16hPYcrG5tkEw=s64",
      "userId": "01747740824393644374"
     },
     "user_tz": -360
    },
    "id": "gNH0V9eRRGHy",
    "outputId": "f884ecfe-c591-47d4-b7f2-5971e88dc5f0"
   },
   "outputs": [
    {
     "name": "stdout",
     "output_type": "stream",
     "text": [
      "3\n",
      "5\n",
      "4\n",
      "4\n"
     ]
    },
    {
     "data": {
      "text/plain": [
       "[[1, 0, 1, 1, 0, 0, 0, 0], [1, 0, 1, 1, 0, 0, 0, 0], [1, 0, 1, 1, 0, 0, 0, 0]]"
      ]
     },
     "execution_count": 50,
     "metadata": {},
     "output_type": "execute_result"
    }
   ],
   "source": [
    "off = cross(parents)\n",
    "off"
   ]
  },
  {
   "cell_type": "markdown",
   "metadata": {
    "id": "Zx8t0GLTRqeG"
   },
   "source": [
    "# Step 4: Select Survivor\n",
    "The selected survivors (solutions) will be added to population"
   ]
  },
  {
   "cell_type": "markdown",
   "metadata": {
    "id": "aTh52_9WRqeG"
   },
   "source": [
    "Select top 2 offspring based on fitness value and add them to population."
   ]
  },
  {
   "cell_type": "markdown",
   "metadata": {
    "id": "yUUSEWOXRqeH"
   },
   "source": [
    "Repeat Step 2 to 4 for further iterations"
   ]
  },
  {
   "cell_type": "code",
   "execution_count": 56,
   "metadata": {
    "executionInfo": {
     "elapsed": 443,
     "status": "ok",
     "timestamp": 1647946916597,
     "user": {
      "displayName": "Ashraf Uddin",
      "photoUrl": "https://lh3.googleusercontent.com/a-/AOh14GjBdAa8YVVeKPAj-6WRIHqgGMOom16hPYcrG5tkEw=s64",
      "userId": "01747740824393644374"
     },
     "user_tz": -360
    },
    "id": "MhgbFzZHRqeH"
   },
   "outputs": [],
   "source": [
    "# define a method to select top offsprings (input offsprings, top)\n",
    "def select_survivor(offsp):\n",
    "  topOffsp = []\n",
    "  f = getFitness(offsp)\n",
    "  mInd = f.index(max(f))\n",
    "  topOffsp.append(offsp[mInd])\n",
    "  return topOffsp"
   ]
  },
  {
   "cell_type": "code",
   "execution_count": 57,
   "metadata": {
    "colab": {
     "base_uri": "https://localhost:8080/"
    },
    "executionInfo": {
     "elapsed": 17,
     "status": "ok",
     "timestamp": 1647946919352,
     "user": {
      "displayName": "Ashraf Uddin",
      "photoUrl": "https://lh3.googleusercontent.com/a-/AOh14GjBdAa8YVVeKPAj-6WRIHqgGMOom16hPYcrG5tkEw=s64",
      "userId": "01747740824393644374"
     },
     "user_tz": -360
    },
    "id": "9_-3CouTRm7E",
    "outputId": "759af604-5fe3-40f9-f319-9ef104bfdfca"
   },
   "outputs": [
    {
     "data": {
      "text/plain": [
       "[[1, 0, 1, 1, 0, 0, 0, 0]]"
      ]
     },
     "execution_count": 57,
     "metadata": {},
     "output_type": "execute_result"
    }
   ],
   "source": [
    "select_survivor(off)"
   ]
  },
  {
   "cell_type": "markdown",
   "metadata": {
    "id": "G4tLqF-TRyS5"
   },
   "source": [
    "# **Complete iteration**"
   ]
  },
  {
   "cell_type": "code",
   "execution_count": 58,
   "metadata": {
    "colab": {
     "base_uri": "https://localhost:8080/"
    },
    "executionInfo": {
     "elapsed": 478,
     "status": "ok",
     "timestamp": 1647946924923,
     "user": {
      "displayName": "Ashraf Uddin",
      "photoUrl": "https://lh3.googleusercontent.com/a-/AOh14GjBdAa8YVVeKPAj-6WRIHqgGMOom16hPYcrG5tkEw=s64",
      "userId": "01747740824393644374"
     },
     "user_tz": -360
    },
    "id": "fIOX062HPMSc",
    "outputId": "54cb27a9-231e-4795-808f-080b92281874"
   },
   "outputs": [
    {
     "name": "stdout",
     "output_type": "stream",
     "text": [
      "8\n",
      "9\n",
      "2\n",
      "9\n",
      "4\n",
      "10\n",
      "25\n",
      "6\n",
      "26\n",
      "4\n",
      "5\n",
      "4\n",
      "4\n",
      "5\n",
      "4\n",
      "4\n"
     ]
    },
    {
     "data": {
      "text/plain": [
       "[[0, 1, 1, 0, 0, 1, 0, 1],\n",
       " [0, 0, 0, 1, 0, 0, 0, 0],\n",
       " [1, 1, 1, 0, 0, 0, 0, 0],\n",
       " [1, 1, 0, 1, 1, 0, 1, 0],\n",
       " [0, 1, 0, 1, 0, 0, 1, 0],\n",
       " [0, 1, 1, 0, 0, 0, 1, 0],\n",
       " [1, 0, 1, 0, 0, 1, 0, 0],\n",
       " [0, 1, 0, 1, 0, 1, 0, 0],\n",
       " [1, 0, 0, 0, 1, 1, 0, 1],\n",
       " [1, 0, 1, 1, 0, 1, 1, 1],\n",
       " [1, 1, 1, 0, 1, 0, 0, 0],\n",
       " [0, 0, 1, 0, 0, 1, 0, 1],\n",
       " [1, 0, 1, 1, 1, 0, 0, 0]]"
      ]
     },
     "execution_count": 58,
     "metadata": {},
     "output_type": "execute_result"
    }
   ],
   "source": [
    "populations = initPopulation(8,30)\n",
    "parents = select_parent(10, populations)\n",
    "offsprings = cross(parents)\n",
    "survivors = select_survivor(offsprings)\n",
    "updatedPopulation = population + survivors\n",
    "updatedPopulation"
   ]
  },
  {
   "cell_type": "code",
   "execution_count": null,
   "metadata": {
    "colab": {
     "base_uri": "https://localhost:8080/"
    },
    "executionInfo": {
     "elapsed": 567,
     "status": "ok",
     "timestamp": 1647837934527,
     "user": {
      "displayName": "Ashraf Uddin",
      "photoUrl": "https://lh3.googleusercontent.com/a-/AOh14GjBdAa8YVVeKPAj-6WRIHqgGMOom16hPYcrG5tkEw=s64",
      "userId": "01747740824393644374"
     },
     "user_tz": -360
    },
    "id": "KljS3ns1tOSW",
    "outputId": "4659d953-56b4-4de1-f3a4-82d2489bd909"
   },
   "outputs": [
    {
     "name": "stdout",
     "output_type": "stream",
     "text": [
      "[0 3 5 1 4 2]\n"
     ]
    },
    {
     "data": {
      "text/plain": [
       "[2, 4]"
      ]
     },
     "execution_count": 47,
     "metadata": {},
     "output_type": "execute_result"
    }
   ],
   "source": [
    "import numpy as np\n",
    "v =np.array( [2,5,8,3,7,4])\n",
    "print(v.argsort())\n",
    "ind = v.argsort()[-1:-3:-1]\n",
    "list(ind)"
   ]
  }
 ],
 "metadata": {
  "colab": {
   "collapsed_sections": [],
   "name": "Week 06 Genetic Algorithm.ipynb",
   "provenance": []
  },
  "kernelspec": {
   "display_name": "Python 3",
   "language": "python",
   "name": "python3"
  },
  "language_info": {
   "codemirror_mode": {
    "name": "ipython",
    "version": 3
   },
   "file_extension": ".py",
   "mimetype": "text/x-python",
   "name": "python",
   "nbconvert_exporter": "python",
   "pygments_lexer": "ipython3",
   "version": "3.8.5"
  }
 },
 "nbformat": 4,
 "nbformat_minor": 0
}
