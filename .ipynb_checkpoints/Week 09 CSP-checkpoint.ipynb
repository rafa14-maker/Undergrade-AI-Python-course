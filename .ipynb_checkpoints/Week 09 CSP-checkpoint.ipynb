{
 "cells": [
  {
   "cell_type": "code",
   "execution_count": 1,
   "metadata": {
    "executionInfo": {
     "elapsed": 16,
     "status": "ok",
     "timestamp": 1649750027370,
     "user": {
      "displayName": "Ashraf Uddin",
      "userId": "01747740824393644374"
     },
     "user_tz": -360
    },
    "id": "hYW2TIWObnCK"
   },
   "outputs": [],
   "source": [
    "# Define a new cgraph\n",
    "cgraph = {'WA': ['SA', 'NT'], \n",
    "          'Q': ['SA', 'NT', 'NSW'], \n",
    "          'T': [],\n",
    "          'V': ['SA', 'NSW'], \n",
    "          'SA': ['WA', 'NT', 'Q', 'NSW','V'], \n",
    "          'NT': ['Q', 'WA', 'SA'], \n",
    "          'NSW': ['Q', 'V', 'SA']}"
   ]
  },
  {
   "cell_type": "code",
   "execution_count": 2,
   "metadata": {
    "executionInfo": {
     "elapsed": 5,
     "status": "ok",
     "timestamp": 1649750033210,
     "user": {
      "displayName": "Ashraf Uddin",
      "userId": "01747740824393644374"
     },
     "user_tz": -360
    },
    "id": "9O9871h6bnCN"
   },
   "outputs": [],
   "source": [
    "import random\n",
    "def get_color(node, rv, cg):\n",
    "    # CODE\n",
    "    # check rv[node] is empty or not when no color availabe\n",
    "    # return 'no color'\n",
    "    color = random.choice(rv[node])\n",
    "    rv.pop(node)\n",
    "    # update remaining values for neihbouring node\n",
    "    adjList = cg[node]\n",
    "    for adj in adjList:\n",
    "        if adj in rv.keys():\n",
    "            rv[adj].remove(color)\n",
    "    #print(adjList)\n",
    "    return color"
   ]
  },
  {
   "cell_type": "markdown",
   "metadata": {
    "id": "j8ywr8eQbnCN"
   },
   "source": [
    "## Highest Degree Node"
   ]
  },
  {
   "cell_type": "code",
   "execution_count": 3,
   "metadata": {
    "executionInfo": {
     "elapsed": 37,
     "status": "ok",
     "timestamp": 1649750047459,
     "user": {
      "displayName": "Ashraf Uddin",
      "userId": "01747740824393644374"
     },
     "user_tz": -360
    },
    "id": "hDpTD2onbnCO"
   },
   "outputs": [],
   "source": [
    "# write a method to get the highest degree node\n",
    "def get_hdnode(cg, solved):\n",
    "    mnode = ''\n",
    "    degree = -1\n",
    "    for k in cg.keys():\n",
    "        if len(cg[k])  > degree and k not in solved.keys():\n",
    "            #print(k)\n",
    "            degree = len(cg[k])\n",
    "            mnode = k\n",
    "    return mnode"
   ]
  },
  {
   "cell_type": "markdown",
   "metadata": {
    "id": "ylzC1XBQbnCP"
   },
   "source": [
    "Color the nodes using Highest degree heuristic"
   ]
  },
  {
   "cell_type": "code",
   "execution_count": 10,
   "metadata": {
    "colab": {
     "base_uri": "https://localhost:8080/"
    },
    "executionInfo": {
     "elapsed": 416,
     "status": "ok",
     "timestamp": 1649750078588,
     "user": {
      "displayName": "Ashraf Uddin",
      "userId": "01747740824393644374"
     },
     "user_tz": -360
    },
    "id": "iHlkL3lJbnCP",
    "outputId": "4c52e285-3bde-45ef-dda0-8db4da3c3cee"
   },
   "outputs": [
    {
     "name": "stdout",
     "output_type": "stream",
     "text": [
      "assigned: {'SA': 'B'}\n",
      "rv: {'WA': ['R', 'G'], 'Q': ['R', 'G'], 'T': ['R', 'G', 'B'], 'V': ['R', 'G'], 'NT': ['R', 'G'], 'NSW': ['R', 'G']}\n",
      "assigned: {'SA': 'B', 'Q': 'G'}\n",
      "rv: {'WA': ['R', 'G'], 'T': ['R', 'G', 'B'], 'V': ['R', 'G'], 'NT': ['R'], 'NSW': ['R']}\n",
      "assigned: {'SA': 'B', 'Q': 'G', 'NT': 'R'}\n",
      "rv: {'WA': ['G'], 'T': ['R', 'G', 'B'], 'V': ['R', 'G'], 'NSW': ['R']}\n",
      "assigned: {'SA': 'B', 'Q': 'G', 'NT': 'R', 'NSW': 'R'}\n",
      "rv: {'WA': ['G'], 'T': ['R', 'G', 'B'], 'V': ['G']}\n",
      "assigned: {'SA': 'B', 'Q': 'G', 'NT': 'R', 'NSW': 'R', 'WA': 'G'}\n",
      "rv: {'T': ['R', 'G', 'B'], 'V': ['G']}\n",
      "assigned: {'SA': 'B', 'Q': 'G', 'NT': 'R', 'NSW': 'R', 'WA': 'G', 'V': 'G'}\n",
      "rv: {'T': ['R', 'G', 'B']}\n",
      "assigned: {'SA': 'B', 'Q': 'G', 'NT': 'R', 'NSW': 'R', 'WA': 'G', 'V': 'G', 'T': 'R'}\n",
      "rv: {}\n"
     ]
    }
   ],
   "source": [
    "assigned = {} # store assigned variables with colors\n",
    "remainingValues = {'WA': ['R','G','B'], \n",
    "                    'Q': ['R','G','B'],\n",
    "                    'T': ['R','G','B'],\n",
    "                    'V':  ['R','G','B'], \n",
    "                    'NT': ['R','G','B'],\n",
    "                    'SA': ['R','G','B'],                    \n",
    "                    'NSW': ['R','G','B']}\n",
    "\n",
    "for i in range(len(cgraph)):\n",
    "    # assign color to the highest degree node\n",
    "    hdNode = get_hdnode(cgraph, assigned)\n",
    "    color = get_color(hdNode, remainingValues, cgraph)\n",
    "    # CODE\n",
    "    # check if 'no color' is returned\n",
    "    # print failure\n",
    "\n",
    "    assigned[hdNode]= color\n",
    "    print('assigned: ', end=\"\")\n",
    "    print(assigned)\n",
    "    print('rv: ', end=\"\")\n",
    "    print(remainingValues)\n"
   ]
  },
  {
   "cell_type": "markdown",
   "metadata": {
    "id": "c7h2vdiTbnCQ"
   },
   "source": [
    "## Minimum Remaining Value"
   ]
  },
  {
   "cell_type": "code",
   "execution_count": null,
   "metadata": {
    "id": "zYiGg6q1bnCQ",
    "outputId": "f84c2091-6cf1-401c-ae3f-e52e420d0b2d"
   },
   "outputs": [
    {
     "ename": "SyntaxError",
     "evalue": "invalid syntax (<ipython-input-5-085a021c9838>, line 5)",
     "output_type": "error",
     "traceback": [
      "\u001b[1;36m  File \u001b[1;32m\"<ipython-input-5-085a021c9838>\"\u001b[1;36m, line \u001b[1;32m5\u001b[0m\n\u001b[1;33m    retrun node\u001b[0m\n\u001b[1;37m           ^\u001b[0m\n\u001b[1;31mSyntaxError\u001b[0m\u001b[1;31m:\u001b[0m invalid syntax\n"
     ]
    }
   ],
   "source": [
    "# define a method to select a node by MRV\n",
    "def get_MRVnode(rv, solved):\n",
    "    # CODE\n",
    "    #implement the logic on remainingValues list\n",
    "    return node"
   ]
  },
  {
   "cell_type": "markdown",
   "metadata": {
    "id": "4CHiqApobnCR"
   },
   "source": [
    "Color the nodes using MRV heuristic"
   ]
  },
  {
   "cell_type": "code",
   "execution_count": null,
   "metadata": {
    "id": "-WkGNPrsbnCR"
   },
   "outputs": [],
   "source": [
    "assigned = {}\n",
    "\n",
    "remainingValues = {'WA': ['R','G','B'], \n",
    "                    'Q': ['R','G','B'],\n",
    "                    'T': ['R','G','B'],\n",
    "                    'V':  ['R','G','B'], \n",
    "                    'NT': ['R','G','B'],\n",
    "                    'SA': ['R','G','B'],                    \n",
    "                    'NSW': ['R','G','B']}\n",
    "\n",
    "for i in range(len(cgraph)):\n",
    "    # assign color to the highest degree node\n",
    "    mrvNode = get_MRVnode(remainingValues, assigned)\n",
    "    color = get_color(mrvNode, remainingValues, cgraph)\n",
    "    # CODE\n",
    "    # check if 'no color' is returned\n",
    "    # print failure\n",
    "\n",
    "    assigned[mrvNode]= color\n",
    "    print(remainingValues)\n",
    "    print(assigned)"
   ]
  },
  {
   "cell_type": "code",
   "execution_count": 1,
   "metadata": {
    "id": "CYxQpzhEbnCS"
   },
   "outputs": [
    {
     "name": "stderr",
     "output_type": "stream",
     "text": [
      "Matplotlib is building the font cache; this may take a moment.\n"
     ]
    },
    {
     "ename": "ModuleNotFoundError",
     "evalue": "No module named 'util'",
     "output_type": "error",
     "traceback": [
      "\u001b[1;31m---------------------------------------------------------------------------\u001b[0m",
      "\u001b[1;31mModuleNotFoundError\u001b[0m                       Traceback (most recent call last)",
      "\u001b[1;32m~\\AppData\\Local\\Temp/ipykernel_25364/2386297356.py\u001b[0m in \u001b[0;36m<module>\u001b[1;34m\u001b[0m\n\u001b[0;32m      1\u001b[0m \u001b[1;32mimport\u001b[0m \u001b[0mitertools\u001b[0m\u001b[1;33m\u001b[0m\u001b[1;33m\u001b[0m\u001b[0m\n\u001b[0;32m      2\u001b[0m \u001b[1;32mimport\u001b[0m \u001b[0mmatplotlib\u001b[0m\u001b[1;33m.\u001b[0m\u001b[0mpyplot\u001b[0m \u001b[1;32mas\u001b[0m \u001b[0mplt\u001b[0m\u001b[1;33m\u001b[0m\u001b[1;33m\u001b[0m\u001b[0m\n\u001b[1;32m----> 3\u001b[1;33m \u001b[1;32mfrom\u001b[0m \u001b[0mutil\u001b[0m \u001b[1;32mimport\u001b[0m \u001b[0mCity\u001b[0m\u001b[1;33m,\u001b[0m \u001b[0mread_cities\u001b[0m\u001b[1;33m,\u001b[0m \u001b[0mwrite_cities_and_return_them\u001b[0m\u001b[1;33m,\u001b[0m \u001b[0mgenerate_cities\u001b[0m\u001b[1;33m,\u001b[0m \u001b[0mpath_cost\u001b[0m\u001b[1;33m\u001b[0m\u001b[1;33m\u001b[0m\u001b[0m\n\u001b[0m\u001b[0;32m      4\u001b[0m \u001b[1;33m\u001b[0m\u001b[0m\n\u001b[0;32m      5\u001b[0m \u001b[1;33m\u001b[0m\u001b[0m\n",
      "\u001b[1;31mModuleNotFoundError\u001b[0m: No module named 'util'"
     ]
    }
   ],
   "source": [
    "import itertools\n",
    "import matplotlib.pyplot as plt\n",
    "from util import City, read_cities, write_cities_and_return_them, generate_cities, path_cost\n",
    "\n",
    "\n",
    "def solve_tsp_dynamic(cities):\n",
    "    distance_matrix = [[x.distance(y) for y in cities] for x in cities]\n",
    "    cities_a = {(frozenset([0, idx + 1]), idx + 1): (dist, [0, idx + 1]) for idx, dist in\n",
    "                enumerate(distance_matrix[0][1:])}\n",
    "    for m in range(2, len(cities)):\n",
    "        cities_b = {}\n",
    "        for cities_set in [frozenset(C) | {0} for C in itertools.combinations(range(1, len(cities)), m)]:\n",
    "            for j in cities_set - {0}:\n",
    "                cities_b[(cities_set, j)] = min([(cities_a[(cities_set - {j}, k)][0] + distance_matrix[k][j],\n",
    "                                                  cities_a[(cities_set - {j}, k)][1] + [j])\n",
    "                                                 for k in cities_set if k != 0 and k != j])\n",
    "        cities_a = cities_b\n",
    "    res = min([(cities_a[d][0] + distance_matrix[0][d[1]], cities_a[d][1]) for d in iter(cities_a)])\n",
    "    return res[1]\n",
    "\n",
    "\n",
    "if __name__ == \"__main__\":\n",
    "\n",
    "    cities = read_cities(16)\n",
    "    g = solve_tsp_dynamic(cities)\n",
    "    sol = [cities[gi] for gi in g]\n",
    "    print(path_cost(sol))\n",
    "    plt.show(block=True)"
   ]
  },
  {
   "cell_type": "code",
   "execution_count": null,
   "metadata": {},
   "outputs": [],
   "source": [
    "12\n",
    "13\n",
    "15\n",
    "151\n",
    "12\n",
    "13\n"
   ]
  }
 ],
 "metadata": {
  "colab": {
   "collapsed_sections": [],
   "name": "Week 09 CSP.ipynb",
   "provenance": []
  },
  "kernelspec": {
   "display_name": "Python 3 (ipykernel)",
   "language": "python",
   "name": "python3"
  },
  "language_info": {
   "codemirror_mode": {
    "name": "ipython",
    "version": 3
   },
   "file_extension": ".py",
   "mimetype": "text/x-python",
   "name": "python",
   "nbconvert_exporter": "python",
   "pygments_lexer": "ipython3",
   "version": "3.9.7"
  }
 },
 "nbformat": 4,
 "nbformat_minor": 1
}
