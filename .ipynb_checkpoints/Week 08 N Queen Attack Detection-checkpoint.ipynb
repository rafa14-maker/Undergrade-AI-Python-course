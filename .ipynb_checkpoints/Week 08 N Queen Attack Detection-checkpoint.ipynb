{
 "cells": [
  {
   "cell_type": "markdown",
   "metadata": {
    "id": "i9cjHABdo20A"
   },
   "source": [
    "# N Queen Attack Detection"
   ]
  },
  {
   "cell_type": "code",
   "execution_count": 8,
   "metadata": {
    "executionInfo": {
     "elapsed": 379,
     "status": "ok",
     "timestamp": 1649172565332,
     "user": {
      "displayName": "Ashraf Uddin",
      "userId": "01747740824393644374"
     },
     "user_tz": -360
    },
    "id": "i8_FUZYg17Dy"
   },
   "outputs": [],
   "source": [
    "def drawBoard(P):\n",
    "  N = len(P)\n",
    "  for i in range(1,N+1):\n",
    "    print(\"|\", end=\"\")\n",
    "    for j in range(1,N+1):\n",
    "      if (i,j) in P:\n",
    "        ind = str(1+ P.index((i,j)))\n",
    "        print(\" \"+ind+\" |\", end= \"\")\n",
    "      else:\n",
    "        print(\" * |\", end= \"\")\n",
    "    print()"
   ]
  },
  {
   "cell_type": "code",
   "execution_count": 9,
   "metadata": {
    "colab": {
     "base_uri": "https://localhost:8080/"
    },
    "executionInfo": {
     "elapsed": 5,
     "status": "ok",
     "timestamp": 1649172566337,
     "user": {
      "displayName": "Ashraf Uddin",
      "userId": "01747740824393644374"
     },
     "user_tz": -360
    },
    "id": "4nAKG_sr78Va",
    "outputId": "f0fa8f0d-fdf4-48ce-f2f2-5179a1fa1739"
   },
   "outputs": [
    {
     "name": "stdout",
     "output_type": "stream",
     "text": [
      "Q1: 3,2\n",
      "Q2: 2,1\n",
      "Q3: 2,4\n",
      "Q4: 3,4\n"
     ]
    },
    {
     "data": {
      "text/plain": [
       "[(3, 2), (2, 1), (2, 4), (3, 4)]"
      ]
     },
     "execution_count": 9,
     "metadata": {},
     "output_type": "execute_result"
    }
   ],
   "source": [
    "from math import ceil\n",
    "import random\n",
    "def generate_positions(N):\n",
    "    CL = list(range(0,N*N));\n",
    "    P = []\n",
    "    for i in range(N):\n",
    "        p = random.choice(CL)\n",
    "        CL.remove(p)\n",
    "        r = ceil((p+1)/N)\n",
    "        c = 1+p%N\n",
    "        P.append((r,c))\n",
    "        print('Q{}: {},{}'.format(i+1,r,c))\n",
    "    return P\n",
    "\n",
    "generate_positions(4)"
   ]
  },
  {
   "cell_type": "code",
   "execution_count": 10,
   "metadata": {
    "colab": {
     "base_uri": "https://localhost:8080/"
    },
    "executionInfo": {
     "elapsed": 4,
     "status": "ok",
     "timestamp": 1649172566337,
     "user": {
      "displayName": "Ashraf Uddin",
      "userId": "01747740824393644374"
     },
     "user_tz": -360
    },
    "id": "2dvDEqqTo20L",
    "outputId": "8a29e411-07c9-44d3-800a-1c5d46077487"
   },
   "outputs": [
    {
     "name": "stdout",
     "output_type": "stream",
     "text": [
      "Q1: 2,2\n",
      "Q2: 2,1\n",
      "Q3: 3,4\n",
      "Q4: 3,2\n",
      "| * | * | * | * |\n",
      "| 2 | 1 | * | * |\n",
      "| * | 4 | * | 3 |\n",
      "| * | * | * | * |\n"
     ]
    }
   ],
   "source": [
    "N = 4\n",
    "positions = generate_positions(N)\n",
    "drawBoard(positions)"
   ]
  },
  {
   "cell_type": "code",
   "execution_count": 11,
   "metadata": {
    "colab": {
     "base_uri": "https://localhost:8080/"
    },
    "executionInfo": {
     "elapsed": 3,
     "status": "ok",
     "timestamp": 1649172566337,
     "user": {
      "displayName": "Ashraf Uddin",
      "userId": "01747740824393644374"
     },
     "user_tz": -360
    },
    "id": "IEMPCDhEo20N",
    "outputId": "df8ac798-c151-456a-be67-415e7106fb17"
   },
   "outputs": [
    {
     "name": "stdout",
     "output_type": "stream",
     "text": [
      "row attack: (2, 2), (2, 1)\n",
      "row attack: (3, 4), (3, 2)\n"
     ]
    },
    {
     "data": {
      "text/plain": [
       "2"
      ]
     },
     "execution_count": 11,
     "metadata": {},
     "output_type": "execute_result"
    }
   ],
   "source": [
    "# row attack\n",
    "def rowAttacK(P):\n",
    "  count = 0\n",
    "  for i in range(N):\n",
    "    for j in range(i+1,N):\n",
    "      if P[i][0] == P[j][0]:\n",
    "        print('row attack:', end = \" \" )\n",
    "        print(P[i], end = \", \")\n",
    "        print(P[j]) \n",
    "        count = count + 1 \n",
    "  return count\n",
    "\n",
    "rowAttacK(positions)   "
   ]
  },
  {
   "cell_type": "code",
   "execution_count": 12,
   "metadata": {
    "executionInfo": {
     "elapsed": 3,
     "status": "ok",
     "timestamp": 1649172566338,
     "user": {
      "displayName": "Ashraf Uddin",
      "userId": "01747740824393644374"
     },
     "user_tz": -360
    },
    "id": "KLBRaUNOo20O"
   },
   "outputs": [],
   "source": [
    "class QueenChessBoard:\n",
    "    def __init__(self, size):\n",
    "        # board has dimensions size x size\n",
    "        self.size = size\n",
    "        # columns[r] is a number c if a queen is placed at row r and column c.\n",
    "        # columns[r] is out of range if no queen is place in row r.\n",
    "        # Thus after all queens are placed, they will be at positions\n",
    "        # (columns[0], 0), (columns[1], 1), ... (columns[size - 1], size - 1)\n",
    "        self.columns = []\n",
    " \n",
    "    def place_in_next_row(self, column):\n",
    "        self.columns.append(column)\n",
    " \n",
    "    def remove_in_current_row(self):\n",
    "        return self.columns.pop()\n",
    " \n",
    "    def is_this_column_safe_in_next_row(self, column):\n",
    "        # index of next row\n",
    "        row = len(self.columns)\n",
    " \n",
    "        # check column\n",
    "        for queen_column in self.columns:\n",
    "            if column == queen_column:\n",
    "                return False\n",
    " \n",
    "        # check diagonal\n",
    "        for queen_row, queen_column in enumerate(self.columns):\n",
    "            if queen_column - queen_row == column - row:\n",
    "                return False\n",
    " \n",
    "        # check other diagonal\n",
    "        for queen_row, queen_column in enumerate(self.columns):\n",
    "            if ((self.size - queen_column) - queen_row\n",
    "                == (self.size - column) - row):\n",
    "                return False\n",
    " \n",
    "        return True\n",
    " \n",
    "    def display(self):\n",
    "        for row in range(self.size):\n",
    "            for column in range(self.size):\n",
    "                if column == self.columns[row]:\n",
    "                    print('Q', end=' ')\n",
    "                else:\n",
    "                    print('.', end=' ')\n",
    "            print()\n",
    " \n",
    " \n",
    "def solve_queen(size):\n",
    "    \"\"\"Display a chessboard for each possible configuration of placing n queens\n",
    "    on an n x n chessboard and print the number of such configurations.\"\"\"\n",
    "    board = QueenChessBoard(size)\n",
    "    number_of_solutions = 0\n",
    " \n",
    "    row = 0\n",
    "    column = 0\n",
    "   \n",
    "    while True:\n",
    "       \n",
    "        while column < size:\n",
    "            if board.is_this_column_safe_in_next_row(column):\n",
    "                board.place_in_next_row(column)\n",
    "                row += 1\n",
    "                column = 0\n",
    "                break\n",
    "            else:\n",
    "                column += 1\n",
    " \n",
    "        # if could not find column to place in or if board is full\n",
    "        if (column == size or row == size):\n",
    "            # if board is full, we have a solution\n",
    "            if row == size:\n",
    "                board.display()\n",
    "                print()\n",
    "                number_of_solutions += 1\n",
    " \n",
    "              \n",
    "                board.remove_in_current_row()\n",
    "                row -= 1\n",
    " \n",
    "         \n",
    "            try:\n",
    "                prev_column = board.remove_in_current_row()\n",
    "            except IndexError:\n",
    "               \n",
    "                break\n",
    "           \n",
    "            row -= 1\n",
    "          \n",
    "            column = 1 + prev_column\n",
    " \n",
    "    print('Number of solutions:', number_of_solutions)\n",
    " \n",
    " \n",
    "n = int(input('Enter n: '))\n",
    "solve_queen(n)"
   ]
  },
  {
   "cell_type": "code",
   "execution_count": 13,
   "metadata": {
    "executionInfo": {
     "elapsed": 3,
     "status": "ok",
     "timestamp": 1649172566338,
     "user": {
      "displayName": "Ashraf Uddin",
      "userId": "01747740824393644374"
     },
     "user_tz": -360
    },
    "id": "Bmw-Teqio20P"
   },
   "outputs": [],
   "source": [
    "\n"
   ]
  },
  {
   "cell_type": "code",
   "execution_count": 14,
   "metadata": {
    "executionInfo": {
     "elapsed": 3,
     "status": "ok",
     "timestamp": 1649172566338,
     "user": {
      "displayName": "Ashraf Uddin",
      "userId": "01747740824393644374"
     },
     "user_tz": -360
    },
    "id": "1hQCBWSoo20Q"
   },
   "outputs": [],
   "source": []
  }
 ],
 "metadata": {
  "colab": {
   "collapsed_sections": [],
   "name": "Week 08 N Queen Attack Detection.ipynb",
   "provenance": []
  },
  "kernelspec": {
   "display_name": "Python 3 (ipykernel)",
   "language": "python",
   "name": "python3"
  },
  "language_info": {
   "codemirror_mode": {
    "name": "ipython",
    "version": 3
   },
   "file_extension": ".py",
   "mimetype": "text/x-python",
   "name": "python",
   "nbconvert_exporter": "python",
   "pygments_lexer": "ipython3",
   "version": "3.9.7"
  }
 },
 "nbformat": 4,
 "nbformat_minor": 1
}
