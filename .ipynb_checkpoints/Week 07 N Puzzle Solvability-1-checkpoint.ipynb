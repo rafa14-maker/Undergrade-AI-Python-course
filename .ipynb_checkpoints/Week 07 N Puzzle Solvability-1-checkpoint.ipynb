{
 "cells": [
  {
   "cell_type": "markdown",
   "metadata": {
    "id": "nz8Q6nBSaf7k"
   },
   "source": [
    "###### To solve a puzzle, you are given an initial state and a goal state.\n",
    "###### Target is to reach goal state from initial state using puzzle rules.\n",
    "######  We can move blank tile only on left, right, up, and down\n",
    "![Capture.JPG](attachment:Capture.JPG)"
   ]
  },
  {
   "cell_type": "markdown",
   "metadata": {
    "id": "SaqziTVFaf7s"
   },
   "source": [
    "# Generate an intial state of NPuzzle"
   ]
  },
  {
   "cell_type": "code",
   "execution_count": 1,
   "metadata": {
    "executionInfo": {
     "elapsed": 533,
     "status": "ok",
     "timestamp": 1648543630840,
     "user": {
      "displayName": "Ashraf Uddin",
      "userId": "01747740824393644374"
     },
     "user_tz": -360
    },
    "id": "iTX34gUNaf7t",
    "scrolled": true
   },
   "outputs": [],
   "source": [
    "import numpy as np\n",
    "import random\n",
    "def get_state(N):    \n",
    "    state = [item for item in range(N*N)]# [0,1,2,...,15]\n",
    "    #print(state)\n",
    "    random.shuffle(state)\n",
    "    #print(state)\n",
    "    tmp = np.array(state)\n",
    "    print(tmp.reshape(N,N))\n",
    "    return state"
   ]
  },
  {
   "cell_type": "code",
   "execution_count": 4,
   "metadata": {
    "colab": {
     "base_uri": "https://localhost:8080/"
    },
    "executionInfo": {
     "elapsed": 624,
     "status": "ok",
     "timestamp": 1648543674877,
     "user": {
      "displayName": "Ashraf Uddin",
      "userId": "01747740824393644374"
     },
     "user_tz": -360
    },
    "id": "QKTU1E1Iaf7v",
    "outputId": "4f8efd3e-7130-4dcb-ab53-ab609fdf4c7e"
   },
   "outputs": [
    {
     "name": "stdout",
     "output_type": "stream",
     "text": [
      "[[8 1 7]\n",
      " [0 5 2]\n",
      " [6 3 4]]\n"
     ]
    },
    {
     "data": {
      "text/plain": [
       "[8, 1, 7, 0, 5, 2, 6, 3, 4]"
      ]
     },
     "execution_count": 4,
     "metadata": {},
     "output_type": "execute_result"
    }
   ],
   "source": [
    "get_state(3)"
   ]
  },
  {
   "cell_type": "markdown",
   "metadata": {
    "id": "3hD4ieUaaf7x"
   },
   "source": [
    "# Calculate inversion"
   ]
  },
  {
   "cell_type": "markdown",
   "metadata": {
    "id": "CkoMv0C8af7y"
   },
   "source": [
    "Inversion is a pair of tiles that are in the reverse order from where they ought to be. In our case, the bigger number is in front of the smaller one.\n",
    "\n"
   ]
  },
  {
   "cell_type": "markdown",
   "metadata": {
    "id": "JcfDN45Caf7y"
   },
   "source": [
    "![Capture.JPG](attachment:Capture.JPG)"
   ]
  },
  {
   "cell_type": "code",
   "execution_count": 5,
   "metadata": {
    "executionInfo": {
     "elapsed": 513,
     "status": "ok",
     "timestamp": 1648543875504,
     "user": {
      "displayName": "Ashraf Uddin",
      "userId": "01747740824393644374"
     },
     "user_tz": -360
    },
    "id": "-W9FOmneaf7z"
   },
   "outputs": [],
   "source": [
    "def count_inversion(state):\n",
    "    #arr = [i for i in arr if i !=0]\n",
    "    print(state)\n",
    "    inversion = []\n",
    "    for i in range(len(state)):    \n",
    "        count = 0\n",
    "        for j in range(i+1,len(state)):        \n",
    "            if state[i] > state[j]: \n",
    "                count = count + 1\n",
    "        inversion.append(count)\n",
    "    #print(inversion)\n",
    "    return sum(inversion)"
   ]
  },
  {
   "cell_type": "code",
   "execution_count": 6,
   "metadata": {
    "colab": {
     "base_uri": "https://localhost:8080/"
    },
    "executionInfo": {
     "elapsed": 503,
     "status": "ok",
     "timestamp": 1648543886165,
     "user": {
      "displayName": "Ashraf Uddin",
      "userId": "01747740824393644374"
     },
     "user_tz": -360
    },
    "id": "sWAiuZfjaf71",
    "outputId": "c18f948d-3a51-4dea-c7b0-622cd201feda"
   },
   "outputs": [
    {
     "name": "stdout",
     "output_type": "stream",
     "text": [
      "[[13  3  5 11]\n",
      " [ 0 10  1  6]\n",
      " [ 2 12  9 14]\n",
      " [15  4  7  8]]\n",
      "[13, 3, 5, 11, 0, 10, 1, 6, 2, 12, 9, 14, 15, 4, 7, 8]\n"
     ]
    },
    {
     "data": {
      "text/plain": [
       "51"
      ]
     },
     "execution_count": 6,
     "metadata": {},
     "output_type": "execute_result"
    }
   ],
   "source": [
    "s = get_state(4)\n",
    "count_inversion(s)"
   ]
  },
  {
   "cell_type": "markdown",
   "metadata": {
    "id": "EDn9_ODN1RFU"
   },
   "source": [
    "# **Find blank row**"
   ]
  },
  {
   "cell_type": "code",
   "execution_count": null,
   "metadata": {
    "id": "R7-N-A6Oaf76"
   },
   "outputs": [],
   "source": [
    "# find row position of the blank tile\n",
    "def get_blank_row(state):\n",
    "  # define here\n"
   ]
  },
  {
   "cell_type": "markdown",
   "metadata": {
    "id": "8bTLG_ZQaf73"
   },
   "source": [
    "# Solvability Rules"
   ]
  },
  {
   "cell_type": "code",
   "execution_count": null,
   "metadata": {
    "id": "0ciw2n-uaf77"
   },
   "outputs": [],
   "source": [
    "# apply the rules to decide solvability\n",
    "#  N, I, R\n",
    "# define a method to return solvability (input S)\n",
    "# return True if solvable or False if not\n",
    "\n",
    "def isSolvable(initialState):\n",
    "  N = ?\n",
    "  I = ?#call function here\n",
    "  R = ?#call function here\n",
    "  # decide solvability\n",
    "  \n"
   ]
  },
  {
   "cell_type": "code",
   "execution_count": null,
   "metadata": {
    "id": "u2TGpQfNhnP2"
   },
   "outputs": [],
   "source": [
    "S = get_state(N)\n",
    "isSolvable(S)\n"
   ]
  }
 ],
 "metadata": {
  "colab": {
   "collapsed_sections": [],
   "name": "Week 07 N Puzzle Solvability.ipynb",
   "provenance": []
  },
  "kernelspec": {
   "display_name": "Python 3",
   "language": "python",
   "name": "python3"
  },
  "language_info": {
   "codemirror_mode": {
    "name": "ipython",
    "version": 3
   },
   "file_extension": ".py",
   "mimetype": "text/x-python",
   "name": "python",
   "nbconvert_exporter": "python",
   "pygments_lexer": "ipython3",
   "version": "3.8.5"
  }
 },
 "nbformat": 4,
 "nbformat_minor": 0
}
