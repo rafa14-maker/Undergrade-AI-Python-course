{
 "cells": [
  {
   "cell_type": "markdown",
   "metadata": {
    "id": "-1O3g3SYNQPX"
   },
   "source": [
    "![map.JPG](attachment:map.JPG)"
   ]
  },
  {
   "cell_type": "code",
   "execution_count": 1,
   "metadata": {
    "executionInfo": {
     "elapsed": 28,
     "status": "ok",
     "timestamp": 1644914348124,
     "user": {
      "displayName": "Ashraf Uddin",
      "photoUrl": "https://lh3.googleusercontent.com/a-/AOh14GjBdAa8YVVeKPAj-6WRIHqgGMOom16hPYcrG5tkEw=s64",
      "userId": "01747740824393644374"
     },
     "user_tz": -360
    },
    "id": "4aNhyGT0NQPv"
   },
   "outputs": [],
   "source": [
    "romanian_map = {\n",
    "    'Arad': {'Sibiu':140, 'Zerind':75, 'Timisoara':118},\n",
    "    'Zerind': {'Arad':75, 'Oradea':71},\n",
    "    'Oradea': {'Zerind':71, 'Sibiu': 151},\n",
    "    'Sibiu': {'Arad':140, 'Oradea':151, 'Fagaras':99, 'Rimnicu':80},\n",
    "    'Timisoara': {'Arad': 118, 'Lugoj':111},\n",
    "    'Lugoj': {'Timisoara':111, 'Mehadia':70},\n",
    "    'Mehadia': {'Lugoj': 70, 'Drobeta':75},\n",
    "    'Drobeta': {'Mehadia':75, 'Craiova':120},\n",
    "    'Craiova': {'Drobeta': 120, 'Rimnicu': 146, 'Pitesti': 138},\n",
    "    'Rimnicu': {'Sibiu': 80, 'Craiova': 146, 'Pitesti': 97},\n",
    "    'Fagaras': {'Sibiu':99, 'Bucharest':211},\n",
    "    'Pitesti': {'Rimnicu': 97, 'Craiova':138, 'Bucharest':101},\n",
    "    'Bucharest': {'Fagaras':211, 'Pitesti': 101, 'Giurgiu':90, 'Urziceni':85},\n",
    "    'Giurgiu': {'Bucharest': 90},\n",
    "    'Urziceni': {'Bucharest': 85, 'Vaslui':142, 'Hirsova':98},\n",
    "    'Hirsova': {'Urziceni':98, 'Eforie':86},\n",
    "    'Eforie': {'Hirsova':86},\n",
    "    'Vaslui': {'Iasi': 92, 'Urziceni':142},\n",
    "    'Iasi': {'Vaslui':92, 'Neamt': 87},\n",
    "    'Neamt': {'Iasi':87}\n",
    "}"
   ]
  },
  {
   "cell_type": "code",
   "execution_count": 2,
   "metadata": {
    "colab": {
     "base_uri": "https://localhost:8080/"
    },
    "executionInfo": {
     "elapsed": 24,
     "status": "ok",
     "timestamp": 1644914348126,
     "user": {
      "displayName": "Ashraf Uddin",
      "photoUrl": "https://lh3.googleusercontent.com/a-/AOh14GjBdAa8YVVeKPAj-6WRIHqgGMOom16hPYcrG5tkEw=s64",
      "userId": "01747740824393644374"
     },
     "user_tz": -360
    },
    "id": "h-iGsBUPNQQg",
    "outputId": "7b8f01b5-eadb-49b2-f960-afd2482ef3aa"
   },
   "outputs": [
    {
     "data": {
      "text/plain": [
       "{'Sibiu': 140, 'Timisoara': 118, 'Zerind': 75}"
      ]
     },
     "execution_count": 2,
     "metadata": {},
     "output_type": "execute_result"
    }
   ],
   "source": [
    "romanian_map['Arad']"
   ]
  },
  {
   "cell_type": "code",
   "execution_count": 3,
   "metadata": {
    "colab": {
     "base_uri": "https://localhost:8080/"
    },
    "executionInfo": {
     "elapsed": 463,
     "status": "ok",
     "timestamp": 1644914370939,
     "user": {
      "displayName": "Ashraf Uddin",
      "photoUrl": "https://lh3.googleusercontent.com/a-/AOh14GjBdAa8YVVeKPAj-6WRIHqgGMOom16hPYcrG5tkEw=s64",
      "userId": "01747740824393644374"
     },
     "user_tz": -360
    },
    "id": "x8Z9GdMvNQQj",
    "outputId": "d4c8293f-9325-4a3c-c016-eb1dcfdfe6fa"
   },
   "outputs": [
    {
     "data": {
      "text/plain": [
       "['Sibiu', 'Zerind', 'Timisoara']"
      ]
     },
     "execution_count": 3,
     "metadata": {},
     "output_type": "execute_result"
    }
   ],
   "source": [
    "list(romanian_map['Arad'].keys())"
   ]
  },
  {
   "cell_type": "code",
   "execution_count": 4,
   "metadata": {
    "colab": {
     "base_uri": "https://localhost:8080/"
    },
    "executionInfo": {
     "elapsed": 450,
     "status": "ok",
     "timestamp": 1644914397557,
     "user": {
      "displayName": "Ashraf Uddin",
      "photoUrl": "https://lh3.googleusercontent.com/a-/AOh14GjBdAa8YVVeKPAj-6WRIHqgGMOom16hPYcrG5tkEw=s64",
      "userId": "01747740824393644374"
     },
     "user_tz": -360
    },
    "id": "wJ7uyya9NQQl",
    "outputId": "a1a46b0d-1bb1-45db-a283-cf3b9bf5c04a"
   },
   "outputs": [
    {
     "data": {
      "text/plain": [
       "75"
      ]
     },
     "execution_count": 4,
     "metadata": {},
     "output_type": "execute_result"
    }
   ],
   "source": [
    "romanian_map['Arad']['Zerind']"
   ]
  },
  {
   "cell_type": "code",
   "execution_count": 5,
   "metadata": {
    "colab": {
     "base_uri": "https://localhost:8080/"
    },
    "executionInfo": {
     "elapsed": 540,
     "status": "ok",
     "timestamp": 1644914401307,
     "user": {
      "displayName": "Ashraf Uddin",
      "photoUrl": "https://lh3.googleusercontent.com/a-/AOh14GjBdAa8YVVeKPAj-6WRIHqgGMOom16hPYcrG5tkEw=s64",
      "userId": "01747740824393644374"
     },
     "user_tz": -360
    },
    "id": "ybqAMUbpPnOr",
    "outputId": "48b4173f-8778-4fbe-c1e7-129cd734360d"
   },
   "outputs": [
    {
     "data": {
      "text/plain": [
       "75"
      ]
     },
     "execution_count": 5,
     "metadata": {},
     "output_type": "execute_result"
    }
   ],
   "source": [
    "romanian_map['Zerind']['Arad']"
   ]
  },
  {
   "cell_type": "code",
   "execution_count": 6,
   "metadata": {
    "colab": {
     "base_uri": "https://localhost:8080/"
    },
    "executionInfo": {
     "elapsed": 615,
     "status": "ok",
     "timestamp": 1644914412258,
     "user": {
      "displayName": "Ashraf Uddin",
      "photoUrl": "https://lh3.googleusercontent.com/a-/AOh14GjBdAa8YVVeKPAj-6WRIHqgGMOom16hPYcrG5tkEw=s64",
      "userId": "01747740824393644374"
     },
     "user_tz": -360
    },
    "id": "cV_e6zwENQQr",
    "outputId": "47f85588-33db-4073-a122-12ddb80e80a6"
   },
   "outputs": [
    {
     "data": {
      "text/plain": [
       "['Arad',\n",
       " 'Zerind',\n",
       " 'Oradea',\n",
       " 'Sibiu',\n",
       " 'Timisoara',\n",
       " 'Lugoj',\n",
       " 'Mehadia',\n",
       " 'Drobeta',\n",
       " 'Craiova',\n",
       " 'Rimnicu',\n",
       " 'Fagaras',\n",
       " 'Pitesti',\n",
       " 'Bucharest',\n",
       " 'Giurgiu',\n",
       " 'Urziceni',\n",
       " 'Hirsova',\n",
       " 'Eforie',\n",
       " 'Vaslui',\n",
       " 'Iasi',\n",
       " 'Neamt']"
      ]
     },
     "execution_count": 6,
     "metadata": {},
     "output_type": "execute_result"
    }
   ],
   "source": [
    "list(romanian_map.keys())"
   ]
  },
  {
   "cell_type": "markdown",
   "metadata": {
    "id": "rUSyZS74NQQs"
   },
   "source": [
    "# BFS"
   ]
  },
  {
   "cell_type": "code",
   "execution_count": 8,
   "metadata": {
    "executionInfo": {
     "elapsed": 513,
     "status": "ok",
     "timestamp": 1644914974761,
     "user": {
      "displayName": "Ashraf Uddin",
      "photoUrl": "https://lh3.googleusercontent.com/a-/AOh14GjBdAa8YVVeKPAj-6WRIHqgGMOom16hPYcrG5tkEw=s64",
      "userId": "01747740824393644374"
     },
     "user_tz": -360
    },
    "id": "L3961YcCNQQu"
   },
   "outputs": [
    {
     "ename": "IndentationError",
     "evalue": "unexpected indent (Temp/ipykernel_2300/2968065019.py, line 20)",
     "output_type": "error",
     "traceback": [
      "\u001b[1;36m  File \u001b[1;32m\"C:\\Users\\Rafayet\\AppData\\Local\\Temp/ipykernel_2300/2968065019.py\"\u001b[1;36m, line \u001b[1;32m20\u001b[0m\n\u001b[1;33m    vnode = {'City': v,'Path cost': cost,'Path': path}\u001b[0m\n\u001b[1;37m    ^\u001b[0m\n\u001b[1;31mIndentationError\u001b[0m\u001b[1;31m:\u001b[0m unexpected indent\n"
     ]
    }
   ],
   "source": [
    "def bfs(startingNode, destinationNode):\n",
    "    reached = []\n",
    "    expand_sequence = [] \n",
    "    frontier = []\n",
    "\n",
    "    snode = {'City':startingNode,'Path cost':0, 'Path':[startingNode]}\n",
    "    frontier.append(snode)  \n",
    "    reached.append(startingNode)\n",
    "    \n",
    "    while len(frontier) > 0:\n",
    "        unode = frontier.pop(0)  \n",
    "        u = unode['City']\n",
    "        expand_sequence.append(u)\n",
    "        \n",
    "        \n",
    "        for v in romanian_map[u].keys():\n",
    "            if v not in reached:             \n",
    "                cost = unode['Path cost'] + romanian_map[u][v] \n",
    "            path =  unode['Path']+ [v]\n",
    "                vnode = {'City': v,'Path cost': cost,'Path': path}\n",
    "                frontier.append(vnode)\n",
    "                reached.append(v)\n",
    "                if v == destinationNode:\n",
    "                    print(expand_sequence)\n",
    "                    return vnode \n",
    "    print('Failed')   "
   ]
  },
  {
   "cell_type": "code",
   "execution_count": 6,
   "metadata": {
    "colab": {
     "base_uri": "https://localhost:8080/"
    },
    "executionInfo": {
     "elapsed": 1004,
     "status": "ok",
     "timestamp": 1644915356820,
     "user": {
      "displayName": "Ashraf Uddin",
      "photoUrl": "https://lh3.googleusercontent.com/a-/AOh14GjBdAa8YVVeKPAj-6WRIHqgGMOom16hPYcrG5tkEw=s64",
      "userId": "01747740824393644374"
     },
     "user_tz": -360
    },
    "id": "OX3FUTH9NQQy",
    "outputId": "73795a97-0df5-4c16-ec21-720f93b0a159"
   },
   "outputs": [
    {
     "name": "stdout",
     "output_type": "stream",
     "text": [
      "['Arad', 'Sibiu', 'Zerind', 'Timisoara', 'Oradea', 'Fagaras', 'Rimnicu', 'Lugoj', 'Bucharest', 'Craiova', 'Pitesti', 'Mehadia', 'Giurgiu', 'Urziceni', 'Drobeta', 'Vaslui']\n"
     ]
    },
    {
     "data": {
      "text/plain": [
       "{'City': 'Iasi',\n",
       " 'Path cost': 769,\n",
       " 'Path': ['Arad',\n",
       "  'Sibiu',\n",
       "  'Fagaras',\n",
       "  'Bucharest',\n",
       "  'Urziceni',\n",
       "  'Vaslui',\n",
       "  'Iasi']}"
      ]
     },
     "execution_count": 6,
     "metadata": {},
     "output_type": "execute_result"
    }
   ],
   "source": [
    "bfs('Arad', 'Iasi') "
   ]
  },
  {
   "cell_type": "markdown",
   "metadata": {
    "id": "MA8md-K-NQQ1"
   },
   "source": [
    "# DFS\n",
    "Implement DFS using stack,\n",
    "Implement stack using list (append and pop) "
   ]
  },
  {
   "cell_type": "code",
   "execution_count": 19,
   "metadata": {
    "id": "IMjLNkxdNQQ2"
   },
   "outputs": [
    {
     "name": "stdout",
     "output_type": "stream",
     "text": [
      "Arad\n",
      "Sibiu\n",
      "Oradea\n",
      "Zerind\n",
      "Fagaras\n",
      "Bucharest\n",
      "Pitesti\n",
      "Rimnicu\n",
      "Craiova\n",
      "Drobeta\n",
      "Mehadia\n",
      "Lugoj\n",
      "Timisoara\n",
      "Giurgiu\n",
      "Urziceni\n",
      "Vaslui\n",
      "Iasi\n",
      "Neamt\n",
      "Hirsova\n",
      "Eforie\n"
     ]
    }
   ],
   "source": [
    "\n",
    "romanian_map = {\n",
    "    'Arad': {'Sibiu':140, 'Zerind':75, 'Timisoara':118},\n",
    "    'Zerind': {'Arad':75, 'Oradea':71},\n",
    "    'Oradea': {'Zerind':71, 'Sibiu': 151},\n",
    "    'Sibiu': {'Arad':140, 'Oradea':151, 'Fagaras':99, 'Rimnicu':80},\n",
    "    'Timisoara': {'Arad': 118, 'Lugoj':111},\n",
    "    'Lugoj': {'Timisoara':111, 'Mehadia':70},\n",
    "    'Mehadia': {'Lugoj': 70, 'Drobeta':75},\n",
    "    'Drobeta': {'Mehadia':75, 'Craiova':120},\n",
    "    'Craiova': {'Drobeta': 120, 'Rimnicu': 146, 'Pitesti': 138},\n",
    "    'Rimnicu': {'Sibiu': 80, 'Craiova': 146, 'Pitesti': 97},\n",
    "    'Fagaras': {'Sibiu':99, 'Bucharest':211},\n",
    "    'Pitesti': {'Rimnicu': 97, 'Craiova':138, 'Bucharest':101},\n",
    "    'Bucharest': {'Fagaras':211, 'Pitesti': 101, 'Giurgiu':90, 'Urziceni':85},\n",
    "    'Giurgiu': {'Bucharest': 90},\n",
    "    'Urziceni': {'Bucharest': 85, 'Vaslui':142, 'Hirsova':98},\n",
    "    'Hirsova': {'Urziceni':98, 'Eforie':86},\n",
    "    'Eforie': {'Hirsova':86},\n",
    "    'Vaslui': {'Iasi': 92, 'Urziceni':142},\n",
    "    'Iasi': {'Vaslui':92, 'Neamt': 87},\n",
    "    'Neamt': {'Iasi':87}\n",
    "}\n",
    "visited = set() \n",
    "\n",
    "def dfs(visited, graph, node):\n",
    "    if node not in visited:\n",
    "        print (node)\n",
    "        visited.add(node)\n",
    "        for neighbour in graph[node]:\n",
    "            dfs(visited, graph, neighbour)\n",
    "\n",
    "# Driver Code\n",
    "dfs(visited,romanian_map, 'Arad')"
   ]
  },
  {
   "cell_type": "code",
   "execution_count": null,
   "metadata": {},
   "outputs": [],
   "source": []
  }
 ],
 "metadata": {
  "colab": {
   "name": "Week 04 search (BFS, DFS).ipynb",
   "provenance": []
  },
  "kernelspec": {
   "display_name": "Python 3 (ipykernel)",
   "language": "python",
   "name": "python3"
  },
  "language_info": {
   "codemirror_mode": {
    "name": "ipython",
    "version": 3
   },
   "file_extension": ".py",
   "mimetype": "text/x-python",
   "name": "python",
   "nbconvert_exporter": "python",
   "pygments_lexer": "ipython3",
   "version": "3.9.7"
  }
 },
 "nbformat": 4,
 "nbformat_minor": 1
}
