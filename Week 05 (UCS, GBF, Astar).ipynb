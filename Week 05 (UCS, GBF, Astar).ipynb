{
 "cells": [
  {
   "cell_type": "markdown",
   "metadata": {
    "id": "d-DKmj30luYm"
   },
   "source": [
    "![map.JPG](attachment:map.JPG)"
   ]
  },
  {
   "cell_type": "code",
   "execution_count": 1,
   "metadata": {
    "executionInfo": {
     "elapsed": 9,
     "status": "ok",
     "timestamp": 1645520128622,
     "user": {
      "displayName": "Ashraf Uddin",
      "photoUrl": "https://lh3.googleusercontent.com/a-/AOh14GjBdAa8YVVeKPAj-6WRIHqgGMOom16hPYcrG5tkEw=s64",
      "userId": "01747740824393644374"
     },
     "user_tz": -360
    },
    "id": "goGfzJW8luYu"
   },
   "outputs": [],
   "source": [
    "romanian_map = {\n",
    "    'Arad': {'Sibiu':140, 'Zerind':75, 'Timisoara':118},\n",
    "    'Zerind': {'Arad':75, 'Oradea':71},\n",
    "    'Oradea': {'Zerind':71, 'Sibiu': 151},\n",
    "    'Sibiu': {'Arad':140, 'Oradea':151, 'Fagaras':99, 'Rimnicu':80},\n",
    "    'Timisoara': {'Arad': 118, 'Lugoj':111},\n",
    "    'Lugoj': {'Timisoara':111, 'Mehadia':70},\n",
    "    'Mehadia': {'Lugoj': 70, 'Drobeta':75},\n",
    "    'Drobeta': {'Mehadia':75, 'Craiova':120},\n",
    "    'Craiova': {'Drobeta': 120, 'Rimnicu': 146, 'Pitesti': 138},\n",
    "    'Rimnicu': {'Sibiu': 80, 'Craiova': 146, 'Pitesti': 97},\n",
    "    'Fagaras': {'Sibiu':99, 'Bucharest':211},\n",
    "    'Pitesti': {'Rimnicu': 97, 'Craiova':138, 'Bucharest':101},\n",
    "    'Bucharest': {'Fagaras':211, 'Pitesti': 101, 'Giurgiu':90, 'Urziceni':85},\n",
    "    'Giurgiu': {'Bucharest': 90},\n",
    "    'Urziceni': {'Bucharest': 85, 'Vaslui':142, 'Hirsova':98},\n",
    "    'Hirsova': {'Urziceni':98, 'Eforie':86},\n",
    "    'Eforie': {'Hirsova':86},\n",
    "    'Vaslui': {'Iasi': 92, 'Urziceni':142},\n",
    "    'Iasi': {'Vaslui':92, 'Neamt': 87},\n",
    "    'Neamt': {'Iasi':87}\n",
    "}"
   ]
  },
  {
   "cell_type": "markdown",
   "metadata": {
    "id": "KRCzk7hwluYx"
   },
   "source": [
    "# Uniform Cost Search"
   ]
  },
  {
   "cell_type": "code",
   "execution_count": 2,
   "metadata": {
    "executionInfo": {
     "elapsed": 25,
     "status": "ok",
     "timestamp": 1645520136923,
     "user": {
      "displayName": "Ashraf Uddin",
      "photoUrl": "https://lh3.googleusercontent.com/a-/AOh14GjBdAa8YVVeKPAj-6WRIHqgGMOom16hPYcrG5tkEw=s64",
      "userId": "01747740824393644374"
     },
     "user_tz": -360
    },
    "id": "Caz8BtEWluYy"
   },
   "outputs": [],
   "source": [
    "from queue import PriorityQueue\n",
    "\n",
    "\n",
    "def ucs(startingNode, destinationNode):\n",
    "    expanded = [] # to store expanded nodes\n",
    "    frontier = PriorityQueue()\n",
    "\n",
    "    snode = (0,startingNode,[startingNode]) #(g(n) = path cost, city name, path)\n",
    "    frontier.put(snode)\n",
    "    \n",
    "    while not frontier.empty():\n",
    "        unode = frontier.get() # select a node for expansion\n",
    "        u = unode[1] \n",
    "        if u == destinationNode:# goal test            \n",
    "            print(unode)\n",
    "            print(expanded)\n",
    "            return unode[2] # path\n",
    "        expanded.append(u)\n",
    "        for v in romanian_map[u].keys():#expanding            \n",
    "            if v not in expanded:\n",
    "                cost = unode[0] + romanian_map[u][v]\n",
    "                path = unode[2] + [v]\n",
    "                frontier.put((cost,v,path))\n",
    "                print(v + \", Cost: \" +str(cost))\n",
    "    print('Failed')"
   ]
  },
  {
   "cell_type": "code",
   "execution_count": 3,
   "metadata": {
    "colab": {
     "base_uri": "https://localhost:8080/"
    },
    "executionInfo": {
     "elapsed": 579,
     "status": "ok",
     "timestamp": 1645520150765,
     "user": {
      "displayName": "Ashraf Uddin",
      "photoUrl": "https://lh3.googleusercontent.com/a-/AOh14GjBdAa8YVVeKPAj-6WRIHqgGMOom16hPYcrG5tkEw=s64",
      "userId": "01747740824393644374"
     },
     "user_tz": -360
    },
    "id": "IwXpwVbKluYz",
    "outputId": "7d22b345-1ecd-4734-a11a-268d46faf218"
   },
   "outputs": [
    {
     "name": "stdout",
     "output_type": "stream",
     "text": [
      "Sibiu, Cost: 140\n",
      "Zerind, Cost: 75\n",
      "Timisoara, Cost: 118\n",
      "Oradea, Cost: 146\n",
      "Lugoj, Cost: 229\n",
      "Oradea, Cost: 291\n",
      "Fagaras, Cost: 239\n",
      "Rimnicu, Cost: 220\n",
      "Craiova, Cost: 366\n",
      "Pitesti, Cost: 317\n",
      "Mehadia, Cost: 299\n",
      "Bucharest, Cost: 450\n",
      "Drobeta, Cost: 374\n",
      "Craiova, Cost: 455\n",
      "Bucharest, Cost: 418\n",
      "Drobeta, Cost: 486\n",
      "(418, 'Bucharest', ['Arad', 'Sibiu', 'Rimnicu', 'Pitesti', 'Bucharest'])\n",
      "['Arad', 'Zerind', 'Timisoara', 'Sibiu', 'Oradea', 'Rimnicu', 'Lugoj', 'Fagaras', 'Oradea', 'Mehadia', 'Pitesti', 'Craiova', 'Drobeta']\n"
     ]
    },
    {
     "data": {
      "text/plain": [
       "['Arad', 'Sibiu', 'Rimnicu', 'Pitesti', 'Bucharest']"
      ]
     },
     "execution_count": 3,
     "metadata": {},
     "output_type": "execute_result"
    }
   ],
   "source": [
    "ucs('Arad', 'Bucharest') # change source and destination"
   ]
  },
  {
   "cell_type": "code",
   "execution_count": null,
   "metadata": {
    "id": "0mgZy0qRluY1"
   },
   "outputs": [],
   "source": [
    "# insert simulation of the ouput"
   ]
  },
  {
   "cell_type": "markdown",
   "metadata": {
    "id": "fKD43fSqluY2"
   },
   "source": [
    "# Greedy Best First Search"
   ]
  },
  {
   "cell_type": "code",
   "execution_count": null,
   "metadata": {
    "id": "Y355atJ_luY3"
   },
   "outputs": [],
   "source": [
    "# SLD heuristic for the destination (Bucharest)\n",
    "h = {'Arad': 366,'Zerind':  374,'Oradea': 380,'Sibiu': 253,\n",
    "    'Timisoara': 329,'Lugoj': 244,'Mehadia': 241,'Drobeta': 242,\n",
    "    'Craiova': 160,'Rimnicu': 193,'Fagaras': 176,'Pitesti': 100,\n",
    "    'Bucharest': 0,'Giurgiu': 77,'Urziceni': 80,'Hirsova': 151,\n",
    "    'Eforie': 161,'Vaslui': 199,'Iasi': 226,'Neamt': 234\n",
    "} "
   ]
  },
  {
   "cell_type": "code",
   "execution_count": null,
   "metadata": {
    "_cell_guid": "b1076dfc-b9ad-4769-8c92-a6c4dae69d19",
    "_uuid": "8f2839f25d086af736a60e9eeb907d3b93b6e0e5",
    "id": "h-1PIbWaluY4"
   },
   "outputs": [],
   "source": [
    "from queue import PriorityQueue\n",
    "\n",
    "def gbfs(startingNode, destinationNode):\n",
    "    expanded = [] # to store expanded nodes\n",
    "    frontier = PriorityQueue()\n",
    "\n",
    "    snode = (h[startingNode],startingNode,[startingNode],0) # (h, city, path, path cost)\n",
    "    frontier.put(snode)\n",
    "\n",
    "    while not frontier.empty():\n",
    "        unode = frontier.get() \n",
    "        u = unode[1]\n",
    "        \n",
    "        if u== destinationNode:#Goal Test            \n",
    "            print(unode)\n",
    "            print(expanded)\n",
    "            return unode[2] #path\n",
    "        expanded.append(u)\n",
    "        for v in romanian_map[u].keys():            \n",
    "            if v not in expanded:\n",
    "                cost = unode[3] + romanian_map[u][v]\n",
    "                path = unode[2]+[v]\n",
    "                frontier.put((h[v],v,path, cost))   \n",
    "    print('Failed')"
   ]
  },
  {
   "cell_type": "code",
   "execution_count": null,
   "metadata": {
    "id": "39lB5KBmluY6",
    "outputId": "9662aebf-5aed-46de-f00c-19f732e3098e"
   },
   "outputs": [
    {
     "name": "stdout",
     "output_type": "stream",
     "text": [
      "(0, 'Bucharest', ['Arad', 'Sibiu', 'Fagaras', 'Bucharest'], 450)\n",
      "['Arad', 'Sibiu', 'Fagaras']\n"
     ]
    },
    {
     "data": {
      "text/plain": [
       "['Arad', 'Sibiu', 'Fagaras', 'Bucharest']"
      ]
     },
     "execution_count": 8,
     "metadata": {},
     "output_type": "execute_result"
    }
   ],
   "source": [
    "gbfs('Arad', 'Bucharest') # change source only"
   ]
  },
  {
   "cell_type": "code",
   "execution_count": null,
   "metadata": {
    "id": "E5uVkp26luY7"
   },
   "outputs": [],
   "source": []
  },
  {
   "cell_type": "markdown",
   "metadata": {
    "id": "dDpUIOyWluY8"
   },
   "source": [
    "# A*"
   ]
  },
  {
   "cell_type": "code",
   "execution_count": 22,
   "metadata": {
    "id": "ddEDeRqPluY8",
    "scrolled": true
   },
   "outputs": [
    {
     "name": "stdout",
     "output_type": "stream",
     "text": [
      "Path found: ['A', 'E', 'D', 'G']\n"
     ]
    },
    {
     "data": {
      "text/plain": [
       "['A', 'E', 'D', 'G']"
      ]
     },
     "execution_count": 22,
     "metadata": {},
     "output_type": "execute_result"
    }
   ],
   "source": [
    "def aStarAlgo(start_node, stop_node):\n",
    "         \n",
    "        open_set = set(start_node) \n",
    "        closed_set = set()\n",
    "        g = {} \n",
    "        parents = {}\n",
    " \n",
    "    \n",
    "        g[start_node] = 0\n",
    "      \n",
    "        parents[start_node] = start_node\n",
    "         \n",
    "         \n",
    "        while len(open_set) > 0:\n",
    "            n = None\n",
    " \n",
    "        \n",
    "            for v in open_set:\n",
    "                if n == None or g[v] + heuristic(v) < g[n] + heuristic(n):\n",
    "                    n = v\n",
    "             \n",
    "                     \n",
    "            if n == stop_node or Graph_nodes[n] == None:\n",
    "                pass\n",
    "            else:\n",
    "                for (m, weight) in get_neighbors(n):\n",
    "                  \n",
    "                    if m not in open_set and m not in closed_set:\n",
    "                        open_set.add(m)\n",
    "                        parents[m] = n\n",
    "                        g[m] = g[n] + weight\n",
    "                         \n",
    "     \n",
    "                   \n",
    "                    else:\n",
    "                        if g[m] > g[n] + weight:\n",
    "                           \n",
    "                            g[m] = g[n] + weight\n",
    "                         \n",
    "                            parents[m] = n\n",
    "                             \n",
    "                         \n",
    "                            if m in closed_set:\n",
    "                                closed_set.remove(m)\n",
    "                                open_set.add(m)\n",
    " \n",
    "            if n == None:\n",
    "                print('Path does not exist!')\n",
    "                return None\n",
    " \n",
    "            if n == stop_node:\n",
    "                path = []\n",
    " \n",
    "                while parents[n] != n:\n",
    "                    path.append(n)\n",
    "                    n = parents[n]\n",
    " \n",
    "                path.append(start_node)\n",
    " \n",
    "                path.reverse()\n",
    " \n",
    "                print('Path found: {}'.format(path))\n",
    "                return path\n",
    "            open_set.remove(n)\n",
    "            closed_set.add(n)\n",
    " \n",
    "        print('Path does not exist!')\n",
    "        return None\n",
    "         \n",
    "\n",
    "def get_neighbors(v):\n",
    "    if v in Graph_nodes:\n",
    "        return Graph_nodes[v]\n",
    "    else:\n",
    "        return None\n",
    "\n",
    "def heuristic(n):\n",
    "        H_dist = {\n",
    "            'A': 11,\n",
    "            'B': 6,\n",
    "            'C': 99,\n",
    "            'D': 1,\n",
    "            'E': 7,\n",
    "            'G': 0,\n",
    "             \n",
    "        }\n",
    " \n",
    "        return H_dist[n]\n",
    "Graph_nodes = {\n",
    "    'A': [('B', 2), ('E', 3)],\n",
    "    'B': [('C', 1),('G', 9)],\n",
    "    'C': None,\n",
    "    'E': [('D', 6)],\n",
    "    'D': [('G', 1)],\n",
    "     \n",
    "}\n",
    "aStarAlgo('A', 'G')"
   ]
  },
  {
   "cell_type": "code",
   "execution_count": 13,
   "metadata": {
    "id": "usP2NEKfluY9"
   },
   "outputs": [],
   "source": [
    "# insert simulation of the ouput (destination: Bucharest)"
   ]
  },
  {
   "cell_type": "code",
   "execution_count": null,
   "metadata": {},
   "outputs": [],
   "source": []
  }
 ],
 "metadata": {
  "colab": {
   "name": "Week 05 (UCS, GBF, Astar).ipynb",
   "provenance": []
  },
  "kernelspec": {
   "display_name": "Python 3 (ipykernel)",
   "language": "python",
   "name": "python3"
  },
  "language_info": {
   "codemirror_mode": {
    "name": "ipython",
    "version": 3
   },
   "file_extension": ".py",
   "mimetype": "text/x-python",
   "name": "python",
   "nbconvert_exporter": "python",
   "pygments_lexer": "ipython3",
   "version": "3.9.7"
  }
 },
 "nbformat": 4,
 "nbformat_minor": 1
}
