{
 "cells": [
  {
   "cell_type": "markdown",
   "metadata": {
    "id": "nz8Q6nBSaf7k"
   },
   "source": [
    "###### To solve a puzzle, you are given an initial state and a goal state.\n",
    "###### Target is to reach goal state from initial state using puzzle rules.\n",
    "######  We can move blank tile only on left, right, up, and down\n",
    "![Capture.JPG](attachment:Capture.JPG)"
   ]
  },
  {
   "cell_type": "markdown",
   "metadata": {
    "id": "SaqziTVFaf7s"
   },
   "source": [
    "# Generate an intial state of NPuzzle"
   ]
  },
  {
   "cell_type": "code",
   "execution_count": 1,
   "metadata": {
    "executionInfo": {
     "elapsed": 533,
     "status": "ok",
     "timestamp": 1648543630840,
     "user": {
      "displayName": "Ashraf Uddin",
      "userId": "01747740824393644374"
     },
     "user_tz": -360
    },
    "id": "iTX34gUNaf7t",
    "scrolled": true
   },
   "outputs": [],
   "source": [
    "import numpy as np\n",
    "import random\n",
    "def get_state(N):    \n",
    "    state = [item for item in range(N*N)]# [0,1,2,...,15]\n",
    "    #print(state)\n",
    "    random.shuffle(state)\n",
    "    #print(state)\n",
    "    tmp = np.array(state)\n",
    "    print(tmp.reshape(N,N))\n",
    "    return state"
   ]
  },
  {
   "cell_type": "code",
   "execution_count": 4,
   "metadata": {
    "colab": {
     "base_uri": "https://localhost:8080/"
    },
    "executionInfo": {
     "elapsed": 624,
     "status": "ok",
     "timestamp": 1648543674877,
     "user": {
      "displayName": "Ashraf Uddin",
      "userId": "01747740824393644374"
     },
     "user_tz": -360
    },
    "id": "QKTU1E1Iaf7v",
    "outputId": "4f8efd3e-7130-4dcb-ab53-ab609fdf4c7e"
   },
   "outputs": [
    {
     "name": "stdout",
     "output_type": "stream",
     "text": [
      "[[8 1 7]\n",
      " [0 5 2]\n",
      " [6 3 4]]\n"
     ]
    },
    {
     "data": {
      "text/plain": [
       "[8, 1, 7, 0, 5, 2, 6, 3, 4]"
      ]
     },
     "execution_count": 4,
     "metadata": {},
     "output_type": "execute_result"
    }
   ],
   "source": [
    "get_state(3)"
   ]
  },
  {
   "cell_type": "markdown",
   "metadata": {
    "id": "3hD4ieUaaf7x"
   },
   "source": [
    "# Calculate inversion"
   ]
  },
  {
   "cell_type": "markdown",
   "metadata": {
    "id": "CkoMv0C8af7y"
   },
   "source": [
    "Inversion is a pair of tiles that are in the reverse order from where they ought to be. In our case, the bigger number is in front of the smaller one.\n",
    "\n"
   ]
  },
  {
   "cell_type": "markdown",
   "metadata": {
    "id": "JcfDN45Caf7y"
   },
   "source": [
    "![Capture.JPG](attachment:Capture.JPG)"
   ]
  },
  {
   "cell_type": "code",
   "execution_count": 5,
   "metadata": {
    "executionInfo": {
     "elapsed": 513,
     "status": "ok",
     "timestamp": 1648543875504,
     "user": {
      "displayName": "Ashraf Uddin",
      "userId": "01747740824393644374"
     },
     "user_tz": -360
    },
    "id": "-W9FOmneaf7z"
   },
   "outputs": [],
   "source": [
    "def count_inversion(state):\n",
    "    #arr = [i for i in arr if i !=0]\n",
    "    print(state)\n",
    "    inversion = []\n",
    "    for i in range(len(state)):    \n",
    "        count = 0\n",
    "        for j in range(i+1,len(state)):        \n",
    "            if state[i] > state[j]: \n",
    "                count = count + 1\n",
    "        inversion.append(count)\n",
    "    #print(inversion)\n",
    "    return sum(inversion)"
   ]
  },
  {
   "cell_type": "code",
   "execution_count": 6,
   "metadata": {
    "colab": {
     "base_uri": "https://localhost:8080/"
    },
    "executionInfo": {
     "elapsed": 503,
     "status": "ok",
     "timestamp": 1648543886165,
     "user": {
      "displayName": "Ashraf Uddin",
      "userId": "01747740824393644374"
     },
     "user_tz": -360
    },
    "id": "sWAiuZfjaf71",
    "outputId": "c18f948d-3a51-4dea-c7b0-622cd201feda"
   },
   "outputs": [
    {
     "name": "stdout",
     "output_type": "stream",
     "text": [
      "[[13  3  5 11]\n",
      " [ 0 10  1  6]\n",
      " [ 2 12  9 14]\n",
      " [15  4  7  8]]\n",
      "[13, 3, 5, 11, 0, 10, 1, 6, 2, 12, 9, 14, 15, 4, 7, 8]\n"
     ]
    },
    {
     "data": {
      "text/plain": [
       "51"
      ]
     },
     "execution_count": 6,
     "metadata": {},
     "output_type": "execute_result"
    }
   ],
   "source": [
    "s = get_state(4)\n",
    "count_inversion(s)"
   ]
  },
  {
   "cell_type": "markdown",
   "metadata": {
    "id": "EDn9_ODN1RFU"
   },
   "source": [
    "# **Find blank row**"
   ]
  },
  {
   "cell_type": "code",
   "execution_count": null,
   "metadata": {
    "id": "R7-N-A6Oaf76"
   },
   "outputs": [],
   "source": [
    "# find row position of the blank tile\n",
    "def get_blank_row(state):\n",
    "  # define here\n"
   ]
  },
  {
   "cell_type": "markdown",
   "metadata": {
    "id": "8bTLG_ZQaf73"
   },
   "source": [
    "# Solvability Rules"
   ]
  },
  {
   "cell_type": "code",
   "execution_count": 2,
   "metadata": {
    "id": "0ciw2n-uaf77"
   },
   "outputs": [
    {
     "ename": "IndentationError",
     "evalue": "unindent does not match any outer indentation level (<tokenize>, line 20)",
     "output_type": "error",
     "traceback": [
      "\u001b[1;36m  File \u001b[1;32m\"<tokenize>\"\u001b[1;36m, line \u001b[1;32m20\u001b[0m\n\u001b[1;33m    def shuffle(self,puz,x1,y1,x2,y2):\u001b[0m\n\u001b[1;37m    ^\u001b[0m\n\u001b[1;31mIndentationError\u001b[0m\u001b[1;31m:\u001b[0m unindent does not match any outer indentation level\n"
     ]
    }
   ],
   "source": [
    "\n",
    "class Node:\n",
    "    def __init__(self,data,level,fval):\n",
    "       \n",
    "        self.data = data\n",
    "        self.level = level\n",
    "        self.fval = fval\n",
    "def generate_child(self):\n",
    "     \n",
    "        x,y = self.find(self.data,'_')\n",
    "       \n",
    "        val_list = [[x,y-1],[x,y+1],[x-1,y],[x+1,y]]\n",
    "        children = []\n",
    "        for i in val_list:\n",
    "            child = self.shuffle(self.data,x,y,i[0],i[1])\n",
    "            if child is not None:\n",
    "                child_node = Node(child,self.level+1,0)\n",
    "                children.append(child_node)\n",
    "        return children\n",
    "        \n",
    "    def shuffle(self,puz,x1,y1,x2,y2):\n",
    "    \n",
    "        if x2 >= 0 and x2 < len(self.data) and y2 >= 0 and y2 < len(self.data):\n",
    "            temp_puz = []\n",
    "            temp_puz = self.copy(puz)\n",
    "            temp = temp_puz[x2][y2]\n",
    "            temp_puz[x2][y2] = temp_puz[x1][y1]\n",
    "            temp_puz[x1][y1] = temp\n",
    "            return temp_puz\n",
    "        else:\n",
    "            return None\n",
    "def copy(self,root):\n",
    "     \n",
    "        temp = []\n",
    "        for i in root:\n",
    "            t = []\n",
    "            for j in i:\n",
    "                t.append(j)\n",
    "            temp.append(t)\n",
    "        return temp    \n",
    "            \n",
    "    def find(self,puz,x):\n",
    "    \n",
    "        for i in range(0,len(self.data)):\n",
    "            for j in range(0,len(self.data)):\n",
    "                if puz[i][j] == x:\n",
    "                    return i,j\n",
    "class Puzzle:\n",
    "    def __init__(self,size):\n",
    "       \n",
    "        self.n = size\n",
    "        self.open = []\n",
    "        self.closed = []\n",
    "def accept(self):\n",
    "      \n",
    "        puz = []\n",
    "        for i in range(0,self.n):\n",
    "            temp = input().split(\" \")\n",
    "            puz.append(temp)\n",
    "        return puz\n",
    "def f(self,start,goal):\n",
    "     \n",
    "        return self.h(start.data,goal)+start.level\n",
    "def h(self,start,goal):\n",
    "      \n",
    "        temp = 0\n",
    "        for i in range(0,self.n):\n",
    "            for j in range(0,self.n):\n",
    "                if start[i][j] != goal[i][j] and start[i][j] != '_':\n",
    "                    temp += 1\n",
    "        return temp\n",
    "def process(self):\n",
    "      \n",
    "        print(\"Enter the start state matrix \\n\")\n",
    "        start = self.accept()\n",
    "        print(\"Enter the goal state matrix \\n\")        \n",
    "        goal = self.accept()\n",
    "start = Node(start,0,0)\n",
    "        start.fval = self.f(start,goal)\n",
    "       \n",
    "        self.open.append(start)\n",
    "        print(\"\\n\\n\")\n",
    "        while True:\n",
    "            cur = self.open[0]\n",
    "            print(\"\")\n",
    "            print(\"  | \")\n",
    "            print(\"  | \")\n",
    "            print(\" \\\\\\'/ \\n\")\n",
    "            for i in cur.data:\n",
    "                for j in i:\n",
    "                    print(j,end=\" \")\n",
    "                print(\"\")\n",
    "         \n",
    "            if(self.h(cur.data,goal) == 0):\n",
    "                break\n",
    "            for i in cur.generate_child():\n",
    "                i.fval = self.f(i,goal)\n",
    "                self.open.append(i)\n",
    "            self.closed.append(cur)\n",
    "            del self.open[0]\n",
    "\n",
    "            self.open.sort(key = lambda x:x.fval,reverse=False)\n",
    "puz = Puzzle(3)\n",
    "puz.process()"
   ]
  },
  {
   "cell_type": "code",
   "execution_count": null,
   "metadata": {
    "id": "u2TGpQfNhnP2"
   },
   "outputs": [],
   "source": []
  },
  {
   "cell_type": "code",
   "execution_count": null,
   "metadata": {},
   "outputs": [],
   "source": []
  }
 ],
 "metadata": {
  "colab": {
   "collapsed_sections": [],
   "name": "Week 07 N Puzzle Solvability.ipynb",
   "provenance": []
  },
  "kernelspec": {
   "display_name": "Python 3 (ipykernel)",
   "language": "python",
   "name": "python3"
  },
  "language_info": {
   "codemirror_mode": {
    "name": "ipython",
    "version": 3
   },
   "file_extension": ".py",
   "mimetype": "text/x-python",
   "name": "python",
   "nbconvert_exporter": "python",
   "pygments_lexer": "ipython3",
   "version": "3.9.7"
  }
 },
 "nbformat": 4,
 "nbformat_minor": 1
}
